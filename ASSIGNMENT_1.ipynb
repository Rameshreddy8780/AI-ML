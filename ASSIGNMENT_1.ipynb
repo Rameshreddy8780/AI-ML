{
  "nbformat": 4,
  "nbformat_minor": 0,
  "metadata": {
    "colab": {
      "provenance": [],
      "include_colab_link": true
    },
    "kernelspec": {
      "name": "python3",
      "display_name": "Python 3"
    },
    "language_info": {
      "name": "python"
    }
  },
  "cells": [
    {
      "cell_type": "markdown",
      "metadata": {
        "id": "view-in-github",
        "colab_type": "text"
      },
      "source": [
        "<a href=\"https://colab.research.google.com/github/Rameshreddy8780/AI-ML/blob/main/ASSIGNMENT_1.ipynb\" target=\"_parent\"><img src=\"https://colab.research.google.com/assets/colab-badge.svg\" alt=\"Open In Colab\"/></a>"
      ]
    },
    {
      "cell_type": "markdown",
      "source": [
        "# Task 1 - Create two lists & join those two lists"
      ],
      "metadata": {
        "id": "PcFiKL-rZpdN"
      }
    },
    {
      "cell_type": "code",
      "execution_count": null,
      "metadata": {
        "id": "Dud5NmlnZhr8"
      },
      "outputs": [],
      "source": [
        "test_list1=[2,4,6,8,10]\n",
        "test_list2=[1,3,5,7,9]"
      ]
    },
    {
      "cell_type": "code",
      "source": [
        "combined=test_list1+test_list2"
      ],
      "metadata": {
        "id": "HzKYDut6aKTJ"
      },
      "execution_count": null,
      "outputs": []
    },
    {
      "cell_type": "code",
      "source": [
        "print(\"Joined list : \",combined)"
      ],
      "metadata": {
        "colab": {
          "base_uri": "https://localhost:8080/"
        },
        "id": "3w0M2r3PaTGF",
        "outputId": "b3dab366-f1ab-4140-b1aa-77a6188786a8"
      },
      "execution_count": null,
      "outputs": [
        {
          "output_type": "stream",
          "name": "stdout",
          "text": [
            "Joined list :  [2, 4, 6, 8, 10, 1, 3, 5, 7, 9]\n"
          ]
        }
      ]
    },
    {
      "cell_type": "markdown",
      "source": [
        "#Task 2 - With 'if' statement find the even numbers"
      ],
      "metadata": {
        "id": "4q7lcPEKafV1"
      }
    },
    {
      "cell_type": "code",
      "source": [
        "a=int(input(\"Enter value of a : \"))\n",
        "if(a%2==0):\n",
        "  print(\"Even\")\n",
        "else:\n",
        "  print(\"Odd\")"
      ],
      "metadata": {
        "colab": {
          "base_uri": "https://localhost:8080/"
        },
        "id": "RVFR9seXarEk",
        "outputId": "d8c0d23a-5733-4552-88a7-4f105dd215df"
      },
      "execution_count": null,
      "outputs": [
        {
          "output_type": "stream",
          "name": "stdout",
          "text": [
            "Enter value of a : 12\n",
            "Even\n"
          ]
        }
      ]
    },
    {
      "cell_type": "markdown",
      "source": [
        "#Task 3 - Create dictionary with 3 keys & 2 values for each key"
      ],
      "metadata": {
        "id": "ZdYWvs8IbHhs"
      }
    },
    {
      "cell_type": "code",
      "source": [
        "dictionary={'FirstKey':[11,12],\n",
        "      'SecondKey':[1,2],\n",
        "      'ThirdKey':[41,51]}"
      ],
      "metadata": {
        "id": "FguCLOszbGQ1"
      },
      "execution_count": null,
      "outputs": []
    },
    {
      "cell_type": "code",
      "source": [
        "ValueCheck=dictionary['SecondKey']"
      ],
      "metadata": {
        "id": "LFWxhrRUb7P6"
      },
      "execution_count": null,
      "outputs": []
    },
    {
      "cell_type": "code",
      "source": [
        "print(ValueCheck)"
      ],
      "metadata": {
        "colab": {
          "base_uri": "https://localhost:8080/"
        },
        "id": "mNIno-y_cHCB",
        "outputId": "ffcaf287-6dad-4dd0-bb35-eaffd33d40bd"
      },
      "execution_count": null,
      "outputs": [
        {
          "output_type": "stream",
          "name": "stdout",
          "text": [
            "[1, 2]\n"
          ]
        }
      ]
    },
    {
      "cell_type": "markdown",
      "source": [
        "Clearly the key has two values"
      ],
      "metadata": {
        "id": "QrKV-x0xcUQo"
      }
    },
    {
      "cell_type": "markdown",
      "source": [
        "#Task 4 - Create a function with 'if' statement which is used to find the odd numbers"
      ],
      "metadata": {
        "id": "haUHVS-sca1h"
      }
    },
    {
      "cell_type": "code",
      "source": [
        "b=int(input(\"Enter value of b : \"))\n",
        "if((b%2)==0):\n",
        "  print(\"Even\")\n",
        "else:\n",
        "  print(\"Odd\")"
      ],
      "metadata": {
        "colab": {
          "base_uri": "https://localhost:8080/"
        },
        "id": "JBSveCx1cZtJ",
        "outputId": "100207e0-2501-4c9b-cec4-97dc020ca52b"
      },
      "execution_count": null,
      "outputs": [
        {
          "output_type": "stream",
          "name": "stdout",
          "text": [
            "Enter value of b : 13\n",
            "Odd\n"
          ]
        }
      ]
    },
    {
      "cell_type": "markdown",
      "source": [
        "#Task 5 - Write a Python function to sum all the numbers in a list\n",
        "Sample list : (8,2,3,0,7)\n",
        "Expected Output:20"
      ],
      "metadata": {
        "id": "Mb3dxFgMdAxj"
      }
    },
    {
      "cell_type": "code",
      "source": [
        "list=[8,2,3,0,7]"
      ],
      "metadata": {
        "id": "ocGU7cAQc_vd"
      },
      "execution_count": null,
      "outputs": []
    },
    {
      "cell_type": "code",
      "source": [
        "total=sum(list)"
      ],
      "metadata": {
        "id": "hujpvK84dgJL"
      },
      "execution_count": null,
      "outputs": []
    },
    {
      "cell_type": "code",
      "source": [
        "print(\"The sum of list is : \",total)"
      ],
      "metadata": {
        "colab": {
          "base_uri": "https://localhost:8080/"
        },
        "id": "nAEkL3KgdkuE",
        "outputId": "9becc889-0c96-401d-b3ae-b88c295f3c08"
      },
      "execution_count": null,
      "outputs": [
        {
          "output_type": "stream",
          "name": "stdout",
          "text": [
            "The sum of list is :  20\n"
          ]
        }
      ]
    }
  ]
}